{
 "cells": [
  {
   "cell_type": "code",
   "execution_count": null,
   "metadata": {},
   "outputs": [
    {
     "name": "stderr",
     "output_type": "stream",
     "text": [
      "2024-10-31 12:01:16.544 Thread 'MainThread': missing ScriptRunContext! This warning can be ignored when running in bare mode.\n",
      "2024-10-31 12:01:16.545 Thread 'MainThread': missing ScriptRunContext! This warning can be ignored when running in bare mode.\n",
      "2024-10-31 12:01:16.546 Thread 'MainThread': missing ScriptRunContext! This warning can be ignored when running in bare mode.\n",
      "2024-10-31 12:01:16.549 Thread 'MainThread': missing ScriptRunContext! This warning can be ignored when running in bare mode.\n",
      "2024-10-31 12:01:16.550 Thread 'MainThread': missing ScriptRunContext! This warning can be ignored when running in bare mode.\n"
     ]
    },
    {
     "name": "stdout",
     "output_type": "stream",
     "text": [
      "   SiteId SiteDesc\n",
      "0       0      All\n"
     ]
    }
   ],
   "source": [
    "import sys\n",
    "import os\n",
    "import pandas as pd\n",
    "from functions.database_connection import mydb\n",
    "import functions\n",
    "\n",
    "# Create a connection to the database\n",
    "engine = mydb()\n",
    "\n",
    "# Execute the stored procedure and retrieve the returned value\n",
    "storedProcedure = \"EXEC [Report].[SSRS_IsMultiSiteEnabled]\"\n",
    "result = pd.read_sql(storedProcedure, engine)\n",
    "\n",
    "# Access the first returned value directly using 'iat' first rows first column\n",
    "is_multi_site_enabled = result.iat[0, 0]  # Gets the first cell value\n",
    "\n",
    "# Check if the value is 1 (True) or not\n",
    "if is_multi_site_enabled == '1':\n",
    "    storedProcedure = \"EXEC [Report].[SSRS_ListSites]\"\n",
    "    listSites = pd.read_sql(storedProcedure, engine)   \n",
    "    print(listSites) \n",
    "else:\n",
    "    print(\"False\")  # Prints \"False\" if the value is not 1\n"
   ]
  }
 ],
 "metadata": {
  "kernelspec": {
   "display_name": "myenv",
   "language": "python",
   "name": "python3"
  },
  "language_info": {
   "codemirror_mode": {
    "name": "ipython",
    "version": 3
   },
   "file_extension": ".py",
   "mimetype": "text/x-python",
   "name": "python",
   "nbconvert_exporter": "python",
   "pygments_lexer": "ipython3",
   "version": "3.12.5"
  }
 },
 "nbformat": 4,
 "nbformat_minor": 2
}
