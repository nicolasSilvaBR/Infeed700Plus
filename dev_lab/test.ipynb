{
 "cells": [
  {
   "cell_type": "code",
   "execution_count": 1,
   "metadata": {},
   "outputs": [
    {
     "name": "stdout",
     "output_type": "stream",
     "text": [
      "Day 1    4\n",
      "Day 2    3\n",
      "Day 3    1\n",
      "Day 4    2\n",
      "Day 5    4\n",
      "dtype: int32\n"
     ]
    }
   ],
   "source": [
    "import pandas as pd \n",
    "sr = pd.Series(['2012-10-21 09:30', '2019-7-18 12:30', '2008-02-2 10:30', \n",
    "\t\t\t\t'2010-4-22 09:25', '2019-11-8 02:22']) \n",
    "idx = ['Day 1', 'Day 2', 'Day 3', 'Day 4', 'Day 5'] \n",
    "sr.index = idx \n",
    "sr = pd.to_datetime(sr) \n",
    "result = sr.dt.quarter \n",
    "print(result) \n",
    "\n"
   ]
  },
  {
   "cell_type": "code",
   "execution_count": null,
   "metadata": {},
   "outputs": [],
   "source": []
  }
 ],
 "metadata": {
  "kernelspec": {
   "display_name": "myenv",
   "language": "python",
   "name": "python3"
  },
  "language_info": {
   "codemirror_mode": {
    "name": "ipython",
    "version": 3
   },
   "file_extension": ".py",
   "mimetype": "text/x-python",
   "name": "python",
   "nbconvert_exporter": "python",
   "pygments_lexer": "ipython3",
   "version": "3.12.5"
  }
 },
 "nbformat": 4,
 "nbformat_minor": 2
}
