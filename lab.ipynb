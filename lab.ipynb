{
 "cells": [
  {
   "cell_type": "code",
   "execution_count": 3,
   "metadata": {},
   "outputs": [
    {
     "name": "stderr",
     "output_type": "stream",
     "text": [
      "2024-10-18 12:30:23.170 Thread 'MainThread': missing ScriptRunContext! This warning can be ignored when running in bare mode.\n",
      "2024-10-18 12:30:23.172 Thread 'MainThread': missing ScriptRunContext! This warning can be ignored when running in bare mode.\n",
      "2024-10-18 12:30:23.173 Thread 'MainThread': missing ScriptRunContext! This warning can be ignored when running in bare mode.\n",
      "2024-10-18 12:30:23.179 Thread 'MainThread': missing ScriptRunContext! This warning can be ignored when running in bare mode.\n",
      "2024-10-18 12:30:23.181 Thread 'MainThread': missing ScriptRunContext! This warning can be ignored when running in bare mode.\n"
     ]
    },
    {
     "name": "stdout",
     "output_type": "stream",
     "text": [
      "{1: [['Intake Summary', 'IntakeSummary', False], ['Intake Tips', 'TipBreakdown', False], ['Intakes', 'Intake', True], ['Raw Material Mass Balance', 'RMUsageVsRMintake', False], ['Raw Material Mass Balance', 'RawMaterialUsageSummaryComparisonToIntake', False], ['Weighbridge', 'Weighbridge', False]], 2: [['Batch Grinding Details', 'BatchGrindingDetails', False], ['Batch Production Summary', 'BatchUsageSummary', False], ['Batch Totals By Route', 'BatchTotalsByRouteCode', False], ['Blending / Batching', 'Batch', False], ['Blending / Run', 'BatchByRunNumber', False], ['Blending / Run Summary', 'BatchByRunNumberSummary', False], ['Conditioner Additions', 'BatchWater', False], ['Plan Versus Actual', 'PlanVersusActualReport', False], ['Plant Timing Detailed', 'PlantTimingDetailed', False], ['Plant Timing Summary', 'PlantTimingSummary', False], ['Raw Material All Inclusions', 'RawMaterialInclusionRateComparisons', False], ['Raw Material Inclusions', 'RawMaterialInclusionRates', False], ['Raw Material Substitution', 'RawMaterialSubstitution', False], ['Weigher Deviation', 'BlendingWeigherDeviation', False]], 3: [['Bulk Density', 'UserBulkDensity', False], ['Press Detailed', 'PressDetailed_DAS', False], ['Press Idle Times', 'PressIdleTimes', False], ['Press Summary', 'PressSummary_DAS', False]], 4: [['Bin Performance', 'BulkBinPerformance', False], ['Bulk', 'Bulk', False], ['Bulk Deviation', 'BulkDeviationTier1', False], ['Bulk Summary', 'BulkSummaryByProduct', False], ['Bulk Trailer Check', 'BulkCleanTrailer', False]], 5: [['Packing', 'Packing', False]], 6: [['All Stock', 'StockTransactionHistory', False], ['Bin Empty', 'BinEmpty', False], ['Bin Stock Level', 'BinStockLevels', False], ['Finished Product Stock', 'FinishedProductStock', False], ['Production Shift Report', 'ShiftKg', False], ['Raw Material Stock', 'RawMaterialStock', False], ['Raw Material Summary', 'RawMaterialSummary', False], ['Raw Material Usage By Product', 'RawMaterialUsageByProduct', False], ['Raw Material Usage Summary', 'RawMaterialUsageSummary', False]], 7: [['Finished Production Consumption', 'FPConsumptionSummary', False], ['GrnId Trace', 'StockTraceByGrnid', False], ['Raw Material Consumption', 'RMConsumptionSummary', False], ['RunId Trace', 'StockTraceByRunid', False]], 8: [['Alarm Summary', 'AlarmSummary', False], ['Alarm Summary - PLC Only', 'AlarmSummaryPLC', False], ['Alarms', 'Alarms', False], ['Bin Change', 'BinChange', False], ['Bin Check', 'BinStockCheckReport', False], ['EneComs Reports', 'http://192.168.5.183/Enecoms/', False], ['Force I/O', 'ForceIO', False], ['Force I/O Summary', 'ForceIO_Summary', False], ['Formula Header', 'FormulationHeaders', False], ['Formulations', 'ProductFormulations', False], ['Pin Access', 'PinAccessLogs', False], ['Power Meter', 'PowerMeter', False], ['Production Compare Bar Graphs', 'ProductionBarGraphs', False], ['Production Compare Line Graphs', 'ProductionGraphs', False]], 9: [['Alarms Dashboard', 'Alarms_Dashboard', False], ['Bulk Dashboard', 'BulkSummaryByProductDashboard', False], ['Dashboard', 'Dashboard', False], ['Force I/O Dashboard', 'ForceIO_Dashboard', False], ['Plant Throughput', 'PlantThroughputDAS', False]], 10: [['Batch Program', 'UserBatchProgramChange', False], ['Location Data', 'UserLocationChanges', False], ['Operator Audit', 'UserPinChange', False], ['Product Changes', 'UserProductChanges', False], ['Stock Changes', 'UserStockChanges', False], ['Timers & Contants', 'UserPLCChange', False], ['Under Hopper Changes', 'UnderHopperChanges', False]]}\n"
     ]
    }
   ],
   "source": [
    "from database_connection import mydb\n",
    "import pandas as pd\n",
    "\n",
    "\n",
    "engine = mydb()\n",
    "\n",
    "sql_query = \"\"\"\n",
    "    SELECT\t\n",
    "        [HeaderId]\n",
    "        ,[ReportDisplayName]\n",
    "        ,[ReportName]\n",
    "        ,ItemDisplayOrder\n",
    "        ,ISNULL([isPythonReportEnable],0) as isPythonReportEnable\n",
    "    FROM [Report].[MenuItems]\n",
    "    WHERE IsActive = 1\n",
    "    ORDER BY  [HeaderId],[ReportDisplayName],[ItemDisplayOrder]\n",
    "    \"\"\"\n",
    "\n",
    "df = pd.read_sql_query(sql_query, engine)\n",
    "\n",
    "# Converte o DataFrame em um dicionário, com HeaderId como chave e uma lista [ReportDisplayName, ReportName] como valor\n",
    "reports_dict = df.groupby('HeaderId')[['ReportDisplayName', 'ReportName','isPythonReportEnable']].apply(lambda x: x.values.tolist()).to_dict()\n",
    "\n",
    "# Exibe o dicionário\n",
    "print(reports_dict)"
   ]
  }
 ],
 "metadata": {
  "kernelspec": {
   "display_name": "myenv",
   "language": "python",
   "name": "python3"
  },
  "language_info": {
   "codemirror_mode": {
    "name": "ipython",
    "version": 3
   },
   "file_extension": ".py",
   "mimetype": "text/x-python",
   "name": "python",
   "nbconvert_exporter": "python",
   "pygments_lexer": "ipython3",
   "version": "3.12.5"
  }
 },
 "nbformat": 4,
 "nbformat_minor": 2
}
