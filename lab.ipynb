{
 "cells": [
  {
   "cell_type": "code",
   "execution_count": 30,
   "metadata": {},
   "outputs": [
    {
     "name": "stderr",
     "output_type": "stream",
     "text": [
      "2024-10-16 15:52:41.588 Thread 'MainThread': missing ScriptRunContext! This warning can be ignored when running in bare mode.\n",
      "2024-10-16 15:52:41.589 Thread 'MainThread': missing ScriptRunContext! This warning can be ignored when running in bare mode.\n",
      "2024-10-16 15:52:41.590 Thread 'MainThread': missing ScriptRunContext! This warning can be ignored when running in bare mode.\n",
      "2024-10-16 15:52:41.590 Thread 'MainThread': missing ScriptRunContext! This warning can be ignored when running in bare mode.\n",
      "2024-10-16 15:52:41.594 Thread 'MainThread': missing ScriptRunContext! This warning can be ignored when running in bare mode.\n"
     ]
    },
    {
     "name": "stdout",
     "output_type": "stream",
     "text": [
      "{1: [['Intake Dashboard', 'NewDashboard_Intake'], ['Intake Summary', 'IntakeSummary'], ['Intake Tips', 'TipBreakdown'], ['Intakes', 'Intake'], ['Raw Material Mass Balance', 'RMUsageVsRMintake'], ['Raw Material Mass Balance', 'RawMaterialUsageSummaryComparisonToIntake'], ['Weighbridge', 'Weighbridge']], 2: [['Batch Grinding Details', 'BatchGrindingDetails'], ['Batch Production Summary', 'BatchUsageSummary'], ['Batch Totals By Route', 'BatchTotalsByRouteCode'], ['Blending / Batching', 'Batch'], ['Blending / Run', 'BatchByRunNumber'], ['Blending / Run Summary', 'BatchByRunNumberSummary'], ['Conditioner Additions', 'BatchWater'], ['Plan Versus Actual', 'PlanVersusActualReport'], ['Plant Timing Detailed', 'PlantTimingDetailed'], ['Plant Timing Summary', 'PlantTimingSummary'], ['Raw Material All Inclusions', 'RawMaterialInclusionRateComparisons'], ['Raw Material Inclusions', 'RawMaterialInclusionRates'], ['Raw Material Substitution', 'RawMaterialSubstitution'], ['Weigher Deviation', 'BlendingWeigherDeviation']], 3: [['Bulk Density', 'UserBulkDensity'], ['Press Detailed', 'PressDetailed_DAS'], ['Press Idle Times', 'PressIdleTimes'], ['Press Summary', 'PressSummary_DAS']], 4: [['Bin Performance', 'BulkBinPerformance'], ['Bulk', 'Bulk'], ['Bulk Deviation', 'BulkDeviationTier1'], ['Bulk Summary', 'BulkSummaryByProduct'], ['Bulk Trailer Check', 'BulkCleanTrailer']], 5: [['Packing', 'Packing']], 6: [['All Stock', 'StockTransactionHistory'], ['Bin Empty', 'BinEmpty'], ['Bin Stock Level', 'BinStockLevels'], ['Finished Product Stock', 'FinishedProductStock'], ['Production Shift Report', 'ShiftKg'], ['Raw Material Stock', 'RawMaterialStock'], ['Raw Material Summary', 'RawMaterialSummary'], ['Raw Material Usage By Product', 'RawMaterialUsageByProduct'], ['Raw Material Usage Summary', 'RawMaterialUsageSummary']], 7: [['Finished Production Consumption', 'FPConsumptionSummary'], ['GrnId Trace', 'StockTraceByGrnid'], ['Raw Material Consumption', 'RMConsumptionSummary'], ['RunId Trace', 'StockTraceByRunid']], 8: [['Alarm Summary', 'AlarmSummary'], ['Alarm Summary - PLC Only', 'AlarmSummaryPLC'], ['Alarms', 'Alarms'], ['Bin Change', 'BinChange'], ['Bin Check', 'BinStockCheckReport'], ['EneComs Reports', 'http://192.168.5.183/Enecoms/'], ['Force I/O', 'ForceIO'], ['Force I/O Summary', 'ForceIO_Summary'], ['Formula Header', 'FormulationHeaders'], ['Formulations', 'ProductFormulations'], ['Pin Access', 'PinAccessLogs'], ['Power Meter', 'PowerMeter'], ['Production Compare Bar Graphs', 'ProductionBarGraphs'], ['Production Compare Line Graphs', 'ProductionGraphs']], 9: [['Alarms Dashboard', 'Alarms_Dashboard'], ['Bulk Dashboard', 'BulkSummaryByProductDashboard'], ['Dashboard', 'Dashboard'], ['Force I/O Dashboard', 'ForceIO_Dashboard'], ['Plant Throughput', 'PlantThroughputDAS']], 10: [['Batch Program', 'UserBatchProgramChange'], ['Location Data', 'UserLocationChanges'], ['Operator Audit', 'UserPinChange'], ['Product Changes', 'UserProductChanges'], ['Stock Changes', 'UserStockChanges'], ['Timers & Contants', 'UserPLCChange'], ['Under Hopper Changes', 'UnderHopperChanges']]}\n"
     ]
    }
   ],
   "source": [
    "from database_connection import mydb\n",
    "import pandas as pd\n",
    "\n",
    "\n",
    "engine = mydb()\n",
    "\n",
    "sql_query = \"\"\"\n",
    "    SELECT\t\n",
    "        [HeaderId]\n",
    "        ,[ReportDisplayName]\n",
    "        ,[ReportName]\n",
    "        ,ItemDisplayOrder\n",
    "    FROM [Report].[MenuItems]\n",
    "    WHERE IsActive = 1\n",
    "    ORDER BY  [HeaderId],[ReportDisplayName],[ItemDisplayOrder]\n",
    "    \"\"\"\n",
    "\n",
    "df = pd.read_sql_query(sql_query, engine)\n",
    "\n",
    "# Converte o DataFrame em um dicionário, com HeaderId como chave e uma lista [ReportDisplayName, ReportName] como valor\n",
    "reports_dict = df.groupby('HeaderId')[['ReportDisplayName', 'ReportName']].apply(lambda x: x.values.tolist()).to_dict()\n",
    "\n",
    "# Exibe o dicionário\n",
    "print(reports_dict)"
   ]
  }
 ],
 "metadata": {
  "kernelspec": {
   "display_name": "Python 3",
   "language": "python",
   "name": "python3"
  },
  "language_info": {
   "codemirror_mode": {
    "name": "ipython",
    "version": 3
   },
   "file_extension": ".py",
   "mimetype": "text/x-python",
   "name": "python",
   "nbconvert_exporter": "python",
   "pygments_lexer": "ipython3",
   "version": "3.12.5"
  }
 },
 "nbformat": 4,
 "nbformat_minor": 2
}
