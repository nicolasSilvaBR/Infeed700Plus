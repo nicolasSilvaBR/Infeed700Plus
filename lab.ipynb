{
 "cells": [
  {
   "cell_type": "code",
   "execution_count": 10,
   "metadata": {},
   "outputs": [
    {
     "name": "stderr",
     "output_type": "stream",
     "text": [
      "2024-10-16 14:57:34.630 Thread 'MainThread': missing ScriptRunContext! This warning can be ignored when running in bare mode.\n",
      "2024-10-16 14:57:34.631 Thread 'MainThread': missing ScriptRunContext! This warning can be ignored when running in bare mode.\n",
      "2024-10-16 14:57:34.631 Thread 'MainThread': missing ScriptRunContext! This warning can be ignored when running in bare mode.\n",
      "2024-10-16 14:57:34.631 Thread 'MainThread': missing ScriptRunContext! This warning can be ignored when running in bare mode.\n",
      "2024-10-16 14:57:34.631 Thread 'MainThread': missing ScriptRunContext! This warning can be ignored when running in bare mode.\n"
     ]
    },
    {
     "data": {
      "text/plain": [
       "{1: 'Intakes',\n",
       " 2: 'Blending',\n",
       " 3: 'Press',\n",
       " 4: 'Bulk',\n",
       " 5: 'Packing',\n",
       " 6: 'Stock',\n",
       " 7: 'Traceability',\n",
       " 10: 'Security',\n",
       " 8: 'General'}"
      ]
     },
     "execution_count": 10,
     "metadata": {},
     "output_type": "execute_result"
    }
   ],
   "source": [
    "from database_connection import mydb\n",
    "import pandas as pd\n",
    "\n",
    "engine = mydb()\n",
    "\n",
    "sql_query = \"\"\"\n",
    "    SELECT\n",
    "        [HeaderId]\n",
    "        ,[HeaderDisplayName]    \n",
    "    FROM [Report].[MenuHeader]\n",
    "    WHERE IsActive = 1\n",
    "        AND HeaderId <> 9\n",
    "    ORDER by [WebHeaderDisplayOrder]  \n",
    "    \"\"\"\n",
    "\n",
    "df = pd.read_sql_query(sql_query, engine)\n",
    "\n",
    "header_dict = df.set_index('HeaderId')['HeaderDisplayName'].to_dict()\n",
    "\n",
    "header_dict"
   ]
  }
 ],
 "metadata": {
  "kernelspec": {
   "display_name": "Python 3",
   "language": "python",
   "name": "python3"
  },
  "language_info": {
   "codemirror_mode": {
    "name": "ipython",
    "version": 3
   },
   "file_extension": ".py",
   "mimetype": "text/x-python",
   "name": "python",
   "nbconvert_exporter": "python",
   "pygments_lexer": "ipython3",
   "version": "3.12.5"
  }
 },
 "nbformat": 4,
 "nbformat_minor": 2
}
